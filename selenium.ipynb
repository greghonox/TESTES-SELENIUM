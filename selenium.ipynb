{
 "cells": [
  {
   "cell_type": "code",
   "execution_count": 2,
   "metadata": {},
   "outputs": [
    {
     "name": "stdout",
     "output_type": "stream",
     "text": [
      "Collecting selenium\n",
      "  Using cached selenium-4.1.5-py3-none-any.whl (979 kB)\n",
      "Collecting webdriver_manager\n",
      "  Downloading webdriver_manager-3.5.4-py2.py3-none-any.whl (18 kB)\n",
      "Collecting trio~=0.17\n",
      "  Using cached trio-0.20.0-py3-none-any.whl (359 kB)\n",
      "Collecting trio-websocket~=0.9\n",
      "  Using cached trio_websocket-0.9.2-py3-none-any.whl (16 kB)\n",
      "Requirement already satisfied: urllib3[secure,socks]~=1.26 in /home/gregorio/.virtualenvs/jupyter/lib/python3.10/site-packages (from selenium) (1.26.9)\n",
      "Requirement already satisfied: requests in /home/gregorio/.virtualenvs/jupyter/lib/python3.10/site-packages (from webdriver_manager) (2.27.1)\n",
      "Requirement already satisfied: idna in /home/gregorio/.virtualenvs/jupyter/lib/python3.10/site-packages (from trio~=0.17->selenium) (3.3)\n",
      "Collecting sniffio\n",
      "  Using cached sniffio-1.2.0-py3-none-any.whl (10 kB)\n",
      "Collecting attrs>=19.2.0\n",
      "  Using cached attrs-21.4.0-py2.py3-none-any.whl (60 kB)\n",
      "Collecting sortedcontainers\n",
      "  Using cached sortedcontainers-2.4.0-py2.py3-none-any.whl (29 kB)\n",
      "Collecting async-generator>=1.9\n",
      "  Using cached async_generator-1.10-py3-none-any.whl (18 kB)\n",
      "Collecting outcome\n",
      "  Using cached outcome-1.1.0-py2.py3-none-any.whl (9.7 kB)\n",
      "Collecting wsproto>=0.14\n",
      "  Using cached wsproto-1.1.0-py3-none-any.whl (24 kB)\n",
      "Collecting PySocks!=1.5.7,<2.0,>=1.5.6\n",
      "  Using cached PySocks-1.7.1-py3-none-any.whl (16 kB)\n",
      "Requirement already satisfied: certifi in /home/gregorio/.virtualenvs/jupyter/lib/python3.10/site-packages (from urllib3[secure,socks]~=1.26->selenium) (2021.10.8)\n",
      "Collecting pyOpenSSL>=0.14\n",
      "  Using cached pyOpenSSL-22.0.0-py2.py3-none-any.whl (55 kB)\n",
      "Collecting cryptography>=1.3.4\n",
      "  Using cached cryptography-37.0.2-cp36-abi3-manylinux_2_24_x86_64.whl (4.0 MB)\n",
      "Requirement already satisfied: charset-normalizer~=2.0.0 in /home/gregorio/.virtualenvs/jupyter/lib/python3.10/site-packages (from requests->webdriver_manager) (2.0.12)\n",
      "Collecting cffi>=1.12\n",
      "  Using cached cffi-1.15.0-cp310-cp310-manylinux_2_12_x86_64.manylinux2010_x86_64.whl (446 kB)\n",
      "Collecting h11<1,>=0.9.0\n",
      "  Using cached h11-0.13.0-py3-none-any.whl (58 kB)\n",
      "Collecting pycparser\n",
      "  Using cached pycparser-2.21-py2.py3-none-any.whl (118 kB)\n",
      "Installing collected packages: sortedcontainers, sniffio, PySocks, pycparser, h11, attrs, async-generator, wsproto, webdriver_manager, outcome, cffi, trio, cryptography, trio-websocket, pyOpenSSL, selenium\n",
      "Successfully installed PySocks-1.7.1 async-generator-1.10 attrs-21.4.0 cffi-1.15.0 cryptography-37.0.2 h11-0.13.0 outcome-1.1.0 pyOpenSSL-22.0.0 pycparser-2.21 selenium-4.1.5 sniffio-1.2.0 sortedcontainers-2.4.0 trio-0.20.0 trio-websocket-0.9.2 webdriver_manager-3.5.4 wsproto-1.1.0\n"
     ]
    }
   ],
   "source": [
    "!pip install selenium webdriver_manager\n"
   ]
  },
  {
   "cell_type": "markdown",
   "metadata": {},
   "source": [
    "### 1º Forma de usar Selenium\n",
    "#### Método `manual`"
   ]
  },
  {
   "cell_type": "code",
   "execution_count": 4,
   "metadata": {},
   "outputs": [],
   "source": [
    "from selenium.webdriver import Chrome"
   ]
  },
  {
   "cell_type": "code",
   "execution_count": 6,
   "metadata": {},
   "outputs": [
    {
     "ename": "WebDriverException",
     "evalue": "Message: 'chromedriver' executable needs to be in PATH. Please see https://chromedriver.chromium.org/home\n",
     "output_type": "error",
     "traceback": [
      "\u001b[0;31m---------------------------------------------------------------------------\u001b[0m",
      "\u001b[0;31mFileNotFoundError\u001b[0m                         Traceback (most recent call last)",
      "File \u001b[0;32m~/.virtualenvs/jupyter/lib/python3.10/site-packages/selenium/webdriver/common/service.py:71\u001b[0m, in \u001b[0;36mService.start\u001b[0;34m(self)\u001b[0m\n\u001b[1;32m     <a href='file:///home/gregorio/.virtualenvs/jupyter/lib/python3.10/site-packages/selenium/webdriver/common/service.py?line=69'>70</a>\u001b[0m     cmd\u001b[39m.\u001b[39mextend(\u001b[39mself\u001b[39m\u001b[39m.\u001b[39mcommand_line_args())\n\u001b[0;32m---> <a href='file:///home/gregorio/.virtualenvs/jupyter/lib/python3.10/site-packages/selenium/webdriver/common/service.py?line=70'>71</a>\u001b[0m     \u001b[39mself\u001b[39m\u001b[39m.\u001b[39mprocess \u001b[39m=\u001b[39m subprocess\u001b[39m.\u001b[39;49mPopen(cmd, env\u001b[39m=\u001b[39;49m\u001b[39mself\u001b[39;49m\u001b[39m.\u001b[39;49menv,\n\u001b[1;32m     <a href='file:///home/gregorio/.virtualenvs/jupyter/lib/python3.10/site-packages/selenium/webdriver/common/service.py?line=71'>72</a>\u001b[0m                                     close_fds\u001b[39m=\u001b[39;49msystem() \u001b[39m!=\u001b[39;49m \u001b[39m'\u001b[39;49m\u001b[39mWindows\u001b[39;49m\u001b[39m'\u001b[39;49m,\n\u001b[1;32m     <a href='file:///home/gregorio/.virtualenvs/jupyter/lib/python3.10/site-packages/selenium/webdriver/common/service.py?line=72'>73</a>\u001b[0m                                     stdout\u001b[39m=\u001b[39;49m\u001b[39mself\u001b[39;49m\u001b[39m.\u001b[39;49mlog_file,\n\u001b[1;32m     <a href='file:///home/gregorio/.virtualenvs/jupyter/lib/python3.10/site-packages/selenium/webdriver/common/service.py?line=73'>74</a>\u001b[0m                                     stderr\u001b[39m=\u001b[39;49m\u001b[39mself\u001b[39;49m\u001b[39m.\u001b[39;49mlog_file,\n\u001b[1;32m     <a href='file:///home/gregorio/.virtualenvs/jupyter/lib/python3.10/site-packages/selenium/webdriver/common/service.py?line=74'>75</a>\u001b[0m                                     stdin\u001b[39m=\u001b[39;49mPIPE,\n\u001b[1;32m     <a href='file:///home/gregorio/.virtualenvs/jupyter/lib/python3.10/site-packages/selenium/webdriver/common/service.py?line=75'>76</a>\u001b[0m                                     creationflags\u001b[39m=\u001b[39;49m\u001b[39mself\u001b[39;49m\u001b[39m.\u001b[39;49mcreationflags)\n\u001b[1;32m     <a href='file:///home/gregorio/.virtualenvs/jupyter/lib/python3.10/site-packages/selenium/webdriver/common/service.py?line=76'>77</a>\u001b[0m \u001b[39mexcept\u001b[39;00m \u001b[39mTypeError\u001b[39;00m:\n",
      "File \u001b[0;32m/usr/lib/python3.10/subprocess.py:966\u001b[0m, in \u001b[0;36mPopen.__init__\u001b[0;34m(self, args, bufsize, executable, stdin, stdout, stderr, preexec_fn, close_fds, shell, cwd, env, universal_newlines, startupinfo, creationflags, restore_signals, start_new_session, pass_fds, user, group, extra_groups, encoding, errors, text, umask, pipesize)\u001b[0m\n\u001b[1;32m    <a href='file:///usr/lib/python3.10/subprocess.py?line=962'>963</a>\u001b[0m             \u001b[39mself\u001b[39m\u001b[39m.\u001b[39mstderr \u001b[39m=\u001b[39m io\u001b[39m.\u001b[39mTextIOWrapper(\u001b[39mself\u001b[39m\u001b[39m.\u001b[39mstderr,\n\u001b[1;32m    <a href='file:///usr/lib/python3.10/subprocess.py?line=963'>964</a>\u001b[0m                     encoding\u001b[39m=\u001b[39mencoding, errors\u001b[39m=\u001b[39merrors)\n\u001b[0;32m--> <a href='file:///usr/lib/python3.10/subprocess.py?line=965'>966</a>\u001b[0m     \u001b[39mself\u001b[39;49m\u001b[39m.\u001b[39;49m_execute_child(args, executable, preexec_fn, close_fds,\n\u001b[1;32m    <a href='file:///usr/lib/python3.10/subprocess.py?line=966'>967</a>\u001b[0m                         pass_fds, cwd, env,\n\u001b[1;32m    <a href='file:///usr/lib/python3.10/subprocess.py?line=967'>968</a>\u001b[0m                         startupinfo, creationflags, shell,\n\u001b[1;32m    <a href='file:///usr/lib/python3.10/subprocess.py?line=968'>969</a>\u001b[0m                         p2cread, p2cwrite,\n\u001b[1;32m    <a href='file:///usr/lib/python3.10/subprocess.py?line=969'>970</a>\u001b[0m                         c2pread, c2pwrite,\n\u001b[1;32m    <a href='file:///usr/lib/python3.10/subprocess.py?line=970'>971</a>\u001b[0m                         errread, errwrite,\n\u001b[1;32m    <a href='file:///usr/lib/python3.10/subprocess.py?line=971'>972</a>\u001b[0m                         restore_signals,\n\u001b[1;32m    <a href='file:///usr/lib/python3.10/subprocess.py?line=972'>973</a>\u001b[0m                         gid, gids, uid, umask,\n\u001b[1;32m    <a href='file:///usr/lib/python3.10/subprocess.py?line=973'>974</a>\u001b[0m                         start_new_session)\n\u001b[1;32m    <a href='file:///usr/lib/python3.10/subprocess.py?line=974'>975</a>\u001b[0m \u001b[39mexcept\u001b[39;00m:\n\u001b[1;32m    <a href='file:///usr/lib/python3.10/subprocess.py?line=975'>976</a>\u001b[0m     \u001b[39m# Cleanup if the child failed starting.\u001b[39;00m\n",
      "File \u001b[0;32m/usr/lib/python3.10/subprocess.py:1842\u001b[0m, in \u001b[0;36mPopen._execute_child\u001b[0;34m(self, args, executable, preexec_fn, close_fds, pass_fds, cwd, env, startupinfo, creationflags, shell, p2cread, p2cwrite, c2pread, c2pwrite, errread, errwrite, restore_signals, gid, gids, uid, umask, start_new_session)\u001b[0m\n\u001b[1;32m   <a href='file:///usr/lib/python3.10/subprocess.py?line=1840'>1841</a>\u001b[0m         err_msg \u001b[39m=\u001b[39m os\u001b[39m.\u001b[39mstrerror(errno_num)\n\u001b[0;32m-> <a href='file:///usr/lib/python3.10/subprocess.py?line=1841'>1842</a>\u001b[0m     \u001b[39mraise\u001b[39;00m child_exception_type(errno_num, err_msg, err_filename)\n\u001b[1;32m   <a href='file:///usr/lib/python3.10/subprocess.py?line=1842'>1843</a>\u001b[0m \u001b[39mraise\u001b[39;00m child_exception_type(err_msg)\n",
      "\u001b[0;31mFileNotFoundError\u001b[0m: [Errno 2] No such file or directory: 'chromedriver'",
      "\nDuring handling of the above exception, another exception occurred:\n",
      "\u001b[0;31mWebDriverException\u001b[0m                        Traceback (most recent call last)",
      "\u001b[1;32mUntitled-1.ipynb Cell 4'\u001b[0m in \u001b[0;36m<cell line: 1>\u001b[0;34m()\u001b[0m\n\u001b[0;32m----> <a href='vscode-notebook-cell:Untitled-1.ipynb?jupyter-notebook#ch0000005untitled?line=0'>1</a>\u001b[0m dr \u001b[39m=\u001b[39m Chrome()\n\u001b[1;32m      <a href='vscode-notebook-cell:Untitled-1.ipynb?jupyter-notebook#ch0000005untitled?line=1'>2</a>\u001b[0m dr\u001b[39m.\u001b[39mget(\u001b[39m'\u001b[39m\u001b[39mhttp://www.google.com.br\u001b[39m\u001b[39m'\u001b[39m)\n",
      "File \u001b[0;32m~/.virtualenvs/jupyter/lib/python3.10/site-packages/selenium/webdriver/chrome/webdriver.py:70\u001b[0m, in \u001b[0;36mWebDriver.__init__\u001b[0;34m(self, executable_path, port, options, service_args, desired_capabilities, service_log_path, chrome_options, service, keep_alive)\u001b[0m\n\u001b[1;32m     <a href='file:///home/gregorio/.virtualenvs/jupyter/lib/python3.10/site-packages/selenium/webdriver/chrome/webdriver.py?line=66'>67</a>\u001b[0m \u001b[39mif\u001b[39;00m \u001b[39mnot\u001b[39;00m service:\n\u001b[1;32m     <a href='file:///home/gregorio/.virtualenvs/jupyter/lib/python3.10/site-packages/selenium/webdriver/chrome/webdriver.py?line=67'>68</a>\u001b[0m     service \u001b[39m=\u001b[39m Service(executable_path, port, service_args, service_log_path)\n\u001b[0;32m---> <a href='file:///home/gregorio/.virtualenvs/jupyter/lib/python3.10/site-packages/selenium/webdriver/chrome/webdriver.py?line=69'>70</a>\u001b[0m \u001b[39msuper\u001b[39;49m(WebDriver, \u001b[39mself\u001b[39;49m)\u001b[39m.\u001b[39;49m\u001b[39m__init__\u001b[39;49m(DesiredCapabilities\u001b[39m.\u001b[39;49mCHROME[\u001b[39m'\u001b[39;49m\u001b[39mbrowserName\u001b[39;49m\u001b[39m'\u001b[39;49m], \u001b[39m\"\u001b[39;49m\u001b[39mgoog\u001b[39;49m\u001b[39m\"\u001b[39;49m,\n\u001b[1;32m     <a href='file:///home/gregorio/.virtualenvs/jupyter/lib/python3.10/site-packages/selenium/webdriver/chrome/webdriver.py?line=70'>71</a>\u001b[0m                                 port, options,\n\u001b[1;32m     <a href='file:///home/gregorio/.virtualenvs/jupyter/lib/python3.10/site-packages/selenium/webdriver/chrome/webdriver.py?line=71'>72</a>\u001b[0m                                 service_args, desired_capabilities,\n\u001b[1;32m     <a href='file:///home/gregorio/.virtualenvs/jupyter/lib/python3.10/site-packages/selenium/webdriver/chrome/webdriver.py?line=72'>73</a>\u001b[0m                                 service_log_path, service, keep_alive)\n",
      "File \u001b[0;32m~/.virtualenvs/jupyter/lib/python3.10/site-packages/selenium/webdriver/chromium/webdriver.py:89\u001b[0m, in \u001b[0;36mChromiumDriver.__init__\u001b[0;34m(self, browser_name, vendor_prefix, port, options, service_args, desired_capabilities, service_log_path, service, keep_alive)\u001b[0m\n\u001b[1;32m     <a href='file:///home/gregorio/.virtualenvs/jupyter/lib/python3.10/site-packages/selenium/webdriver/chromium/webdriver.py?line=85'>86</a>\u001b[0m     \u001b[39mraise\u001b[39;00m \u001b[39mAttributeError\u001b[39;00m(\u001b[39m'\u001b[39m\u001b[39mservice cannot be None\u001b[39m\u001b[39m'\u001b[39m)\n\u001b[1;32m     <a href='file:///home/gregorio/.virtualenvs/jupyter/lib/python3.10/site-packages/selenium/webdriver/chromium/webdriver.py?line=87'>88</a>\u001b[0m \u001b[39mself\u001b[39m\u001b[39m.\u001b[39mservice \u001b[39m=\u001b[39m service\n\u001b[0;32m---> <a href='file:///home/gregorio/.virtualenvs/jupyter/lib/python3.10/site-packages/selenium/webdriver/chromium/webdriver.py?line=88'>89</a>\u001b[0m \u001b[39mself\u001b[39;49m\u001b[39m.\u001b[39;49mservice\u001b[39m.\u001b[39;49mstart()\n\u001b[1;32m     <a href='file:///home/gregorio/.virtualenvs/jupyter/lib/python3.10/site-packages/selenium/webdriver/chromium/webdriver.py?line=90'>91</a>\u001b[0m \u001b[39mtry\u001b[39;00m:\n\u001b[1;32m     <a href='file:///home/gregorio/.virtualenvs/jupyter/lib/python3.10/site-packages/selenium/webdriver/chromium/webdriver.py?line=91'>92</a>\u001b[0m     RemoteWebDriver\u001b[39m.\u001b[39m\u001b[39m__init__\u001b[39m(\n\u001b[1;32m     <a href='file:///home/gregorio/.virtualenvs/jupyter/lib/python3.10/site-packages/selenium/webdriver/chromium/webdriver.py?line=92'>93</a>\u001b[0m         \u001b[39mself\u001b[39m,\n\u001b[1;32m     <a href='file:///home/gregorio/.virtualenvs/jupyter/lib/python3.10/site-packages/selenium/webdriver/chromium/webdriver.py?line=93'>94</a>\u001b[0m         command_executor\u001b[39m=\u001b[39mChromiumRemoteConnection(\n\u001b[0;32m   (...)\u001b[0m\n\u001b[1;32m     <a href='file:///home/gregorio/.virtualenvs/jupyter/lib/python3.10/site-packages/selenium/webdriver/chromium/webdriver.py?line=96'>97</a>\u001b[0m             keep_alive\u001b[39m=\u001b[39mkeep_alive, ignore_proxy\u001b[39m=\u001b[39m_ignore_proxy),\n\u001b[1;32m     <a href='file:///home/gregorio/.virtualenvs/jupyter/lib/python3.10/site-packages/selenium/webdriver/chromium/webdriver.py?line=97'>98</a>\u001b[0m         options\u001b[39m=\u001b[39moptions)\n",
      "File \u001b[0;32m~/.virtualenvs/jupyter/lib/python3.10/site-packages/selenium/webdriver/common/service.py:81\u001b[0m, in \u001b[0;36mService.start\u001b[0;34m(self)\u001b[0m\n\u001b[1;32m     <a href='file:///home/gregorio/.virtualenvs/jupyter/lib/python3.10/site-packages/selenium/webdriver/common/service.py?line=78'>79</a>\u001b[0m \u001b[39mexcept\u001b[39;00m \u001b[39mOSError\u001b[39;00m \u001b[39mas\u001b[39;00m err:\n\u001b[1;32m     <a href='file:///home/gregorio/.virtualenvs/jupyter/lib/python3.10/site-packages/selenium/webdriver/common/service.py?line=79'>80</a>\u001b[0m     \u001b[39mif\u001b[39;00m err\u001b[39m.\u001b[39merrno \u001b[39m==\u001b[39m errno\u001b[39m.\u001b[39mENOENT:\n\u001b[0;32m---> <a href='file:///home/gregorio/.virtualenvs/jupyter/lib/python3.10/site-packages/selenium/webdriver/common/service.py?line=80'>81</a>\u001b[0m         \u001b[39mraise\u001b[39;00m WebDriverException(\n\u001b[1;32m     <a href='file:///home/gregorio/.virtualenvs/jupyter/lib/python3.10/site-packages/selenium/webdriver/common/service.py?line=81'>82</a>\u001b[0m             \u001b[39m\"\u001b[39m\u001b[39m'\u001b[39m\u001b[39m%s\u001b[39;00m\u001b[39m'\u001b[39m\u001b[39m executable needs to be in PATH. \u001b[39m\u001b[39m%s\u001b[39;00m\u001b[39m\"\u001b[39m \u001b[39m%\u001b[39m (\n\u001b[1;32m     <a href='file:///home/gregorio/.virtualenvs/jupyter/lib/python3.10/site-packages/selenium/webdriver/common/service.py?line=82'>83</a>\u001b[0m                 os\u001b[39m.\u001b[39mpath\u001b[39m.\u001b[39mbasename(\u001b[39mself\u001b[39m\u001b[39m.\u001b[39mpath), \u001b[39mself\u001b[39m\u001b[39m.\u001b[39mstart_error_message)\n\u001b[1;32m     <a href='file:///home/gregorio/.virtualenvs/jupyter/lib/python3.10/site-packages/selenium/webdriver/common/service.py?line=83'>84</a>\u001b[0m         )\n\u001b[1;32m     <a href='file:///home/gregorio/.virtualenvs/jupyter/lib/python3.10/site-packages/selenium/webdriver/common/service.py?line=84'>85</a>\u001b[0m     \u001b[39melif\u001b[39;00m err\u001b[39m.\u001b[39merrno \u001b[39m==\u001b[39m errno\u001b[39m.\u001b[39mEACCES:\n\u001b[1;32m     <a href='file:///home/gregorio/.virtualenvs/jupyter/lib/python3.10/site-packages/selenium/webdriver/common/service.py?line=85'>86</a>\u001b[0m         \u001b[39mraise\u001b[39;00m WebDriverException(\n\u001b[1;32m     <a href='file:///home/gregorio/.virtualenvs/jupyter/lib/python3.10/site-packages/selenium/webdriver/common/service.py?line=86'>87</a>\u001b[0m             \u001b[39m\"\u001b[39m\u001b[39m'\u001b[39m\u001b[39m%s\u001b[39;00m\u001b[39m'\u001b[39m\u001b[39m executable may have wrong permissions. \u001b[39m\u001b[39m%s\u001b[39;00m\u001b[39m\"\u001b[39m \u001b[39m%\u001b[39m (\n\u001b[1;32m     <a href='file:///home/gregorio/.virtualenvs/jupyter/lib/python3.10/site-packages/selenium/webdriver/common/service.py?line=87'>88</a>\u001b[0m                 os\u001b[39m.\u001b[39mpath\u001b[39m.\u001b[39mbasename(\u001b[39mself\u001b[39m\u001b[39m.\u001b[39mpath), \u001b[39mself\u001b[39m\u001b[39m.\u001b[39mstart_error_message)\n\u001b[1;32m     <a href='file:///home/gregorio/.virtualenvs/jupyter/lib/python3.10/site-packages/selenium/webdriver/common/service.py?line=88'>89</a>\u001b[0m         )\n",
      "\u001b[0;31mWebDriverException\u001b[0m: Message: 'chromedriver' executable needs to be in PATH. Please see https://chromedriver.chromium.org/home\n"
     ]
    }
   ],
   "source": [
    "dr = Chrome(executable_path='/tmp/chromedriver')\n",
    "dr.get('http://www.google.com.br')\n"
   ]
  }
 ],
 "metadata": {
  "interpreter": {
   "hash": "128e908363acb280a47a15c84574337f3ac3285f817d31aefc25b0f997ee3c95"
  },
  "kernelspec": {
   "display_name": "Python 3.10.4 ('jupyter')",
   "language": "python",
   "name": "python3"
  },
  "language_info": {
   "codemirror_mode": {
    "name": "ipython",
    "version": 3
   },
   "file_extension": ".py",
   "mimetype": "text/x-python",
   "name": "python",
   "nbconvert_exporter": "python",
   "pygments_lexer": "ipython3",
   "version": "3.10.4"
  },
  "orig_nbformat": 4
 },
 "nbformat": 4,
 "nbformat_minor": 2
}
