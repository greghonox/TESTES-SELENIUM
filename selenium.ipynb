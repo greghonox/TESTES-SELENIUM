{
 "cells": [
  {
   "cell_type": "markdown",
   "metadata": {},
   "source": [
    "#### Noções de testes com selenium\n",
    "##### `Gregório Honorato`\n",
    "<img src='img/azos.svg' style=\"width:300px\">"
   ]
  },
  {
   "cell_type": "code",
   "execution_count": 2,
   "metadata": {},
   "outputs": [
    {
     "name": "stdout",
     "output_type": "stream",
     "text": [
      "Collecting selenium\n",
      "  Using cached selenium-4.1.5-py3-none-any.whl (979 kB)\n",
      "Collecting webdriver_manager\n",
      "  Downloading webdriver_manager-3.5.4-py2.py3-none-any.whl (18 kB)\n",
      "Collecting trio~=0.17\n",
      "  Using cached trio-0.20.0-py3-none-any.whl (359 kB)\n",
      "Collecting trio-websocket~=0.9\n",
      "  Using cached trio_websocket-0.9.2-py3-none-any.whl (16 kB)\n",
      "Requirement already satisfied: urllib3[secure,socks]~=1.26 in /home/gregorio/.virtualenvs/jupyter/lib/python3.10/site-packages (from selenium) (1.26.9)\n",
      "Requirement already satisfied: requests in /home/gregorio/.virtualenvs/jupyter/lib/python3.10/site-packages (from webdriver_manager) (2.27.1)\n",
      "Requirement already satisfied: idna in /home/gregorio/.virtualenvs/jupyter/lib/python3.10/site-packages (from trio~=0.17->selenium) (3.3)\n",
      "Collecting sniffio\n",
      "  Using cached sniffio-1.2.0-py3-none-any.whl (10 kB)\n",
      "Collecting attrs>=19.2.0\n",
      "  Using cached attrs-21.4.0-py2.py3-none-any.whl (60 kB)\n",
      "Collecting sortedcontainers\n",
      "  Using cached sortedcontainers-2.4.0-py2.py3-none-any.whl (29 kB)\n",
      "Collecting async-generator>=1.9\n",
      "  Using cached async_generator-1.10-py3-none-any.whl (18 kB)\n",
      "Collecting outcome\n",
      "  Using cached outcome-1.1.0-py2.py3-none-any.whl (9.7 kB)\n",
      "Collecting wsproto>=0.14\n",
      "  Using cached wsproto-1.1.0-py3-none-any.whl (24 kB)\n",
      "Collecting PySocks!=1.5.7,<2.0,>=1.5.6\n",
      "  Using cached PySocks-1.7.1-py3-none-any.whl (16 kB)\n",
      "Requirement already satisfied: certifi in /home/gregorio/.virtualenvs/jupyter/lib/python3.10/site-packages (from urllib3[secure,socks]~=1.26->selenium) (2021.10.8)\n",
      "Collecting pyOpenSSL>=0.14\n",
      "  Using cached pyOpenSSL-22.0.0-py2.py3-none-any.whl (55 kB)\n",
      "Collecting cryptography>=1.3.4\n",
      "  Using cached cryptography-37.0.2-cp36-abi3-manylinux_2_24_x86_64.whl (4.0 MB)\n",
      "Requirement already satisfied: charset-normalizer~=2.0.0 in /home/gregorio/.virtualenvs/jupyter/lib/python3.10/site-packages (from requests->webdriver_manager) (2.0.12)\n",
      "Collecting cffi>=1.12\n",
      "  Using cached cffi-1.15.0-cp310-cp310-manylinux_2_12_x86_64.manylinux2010_x86_64.whl (446 kB)\n",
      "Collecting h11<1,>=0.9.0\n",
      "  Using cached h11-0.13.0-py3-none-any.whl (58 kB)\n",
      "Collecting pycparser\n",
      "  Using cached pycparser-2.21-py2.py3-none-any.whl (118 kB)\n",
      "Installing collected packages: sortedcontainers, sniffio, PySocks, pycparser, h11, attrs, async-generator, wsproto, webdriver_manager, outcome, cffi, trio, cryptography, trio-websocket, pyOpenSSL, selenium\n",
      "Successfully installed PySocks-1.7.1 async-generator-1.10 attrs-21.4.0 cffi-1.15.0 cryptography-37.0.2 h11-0.13.0 outcome-1.1.0 pyOpenSSL-22.0.0 pycparser-2.21 selenium-4.1.5 sniffio-1.2.0 sortedcontainers-2.4.0 trio-0.20.0 trio-websocket-0.9.2 webdriver_manager-3.5.4 wsproto-1.1.0\n"
     ]
    }
   ],
   "source": [
    "!pip install selenium webdriver_manager\n"
   ]
  },
  {
   "cell_type": "markdown",
   "metadata": {},
   "source": [
    "### 1º Forma de usar Selenium\n",
    "#### Método `manual`"
   ]
  },
  {
   "cell_type": "code",
   "execution_count": 16,
   "metadata": {},
   "outputs": [],
   "source": [
    "from selenium import webdriver\n",
    "\n",
    "\n",
    "URL = 'https://azos.dev/simulacao?s=1'"
   ]
  },
  {
   "cell_type": "code",
   "execution_count": null,
   "metadata": {},
   "outputs": [],
   "source": [
    "dr = webdriver.Chrome(executable_path='/tmp/chromedriver')\n",
    "dr.get(URL)\n"
   ]
  },
  {
   "cell_type": "markdown",
   "metadata": {},
   "source": [
    "#### Detalhes:\n",
    "#### *`Desvatagem`*\n",
    "##### 1. Atualizar sempre o driver de navegaão.\n",
    "##### 2. Precisa instalar o driver de navegação."
   ]
  },
  {
   "cell_type": "code",
   "execution_count": 113,
   "metadata": {},
   "outputs": [],
   "source": [
    "from selenium import webdriver\n",
    "from webdriver_manager.chrome import ChromeDriverManager\n"
   ]
  },
  {
   "cell_type": "markdown",
   "metadata": {},
   "source": [
    "##### Agora se adiciona uma nova instrução. Além disso também se adiciona o *`webdriver_manager`* para gerenciar o driver desejado.\n",
    "<img src='img/2.png' style=\"width:800px\">"
   ]
  },
  {
   "cell_type": "code",
   "execution_count": 115,
   "metadata": {},
   "outputs": [
    {
     "name": "stderr",
     "output_type": "stream",
     "text": [
      "\n",
      "\n",
      "====== WebDriver manager ======\n",
      "Current google-chrome version is 101.0.4951\n",
      "Get LATEST chromedriver version for 101.0.4951 google-chrome\n",
      "Driver [/home/gregorio/.wdm/drivers/chromedriver/linux64/101.0.4951.41/chromedriver] found in cache\n",
      "/tmp/ipykernel_25518/2857397124.py:1: DeprecationWarning: executable_path has been deprecated, please pass in a Service object\n",
      "  dr = webdriver.Chrome(ChromeDriverManager().install())\n"
     ]
    }
   ],
   "source": [
    "dr = webdriver.Chrome(ChromeDriverManager().install())\n",
    "dr.get(URL)\n"
   ]
  },
  {
   "cell_type": "markdown",
   "metadata": {},
   "source": [
    "#### A *vantagem* de ser utilizar assim são:\n",
    "\n",
    "##### 1º Sem dor de cabeça com os problemas de driver.\n",
    "##### 2º Os driver tem `prazo de validade`. Isso evita esse problema.\n",
    "##### 3º Funciona para __Firefox, Google Chrome Internet Explorer__ entre outros...\n",
    "\n",
    "#### Algumas *devantagem* de ser utilizar assim são:\n",
    "\n",
    "##### 1º Precisa de internet para baixar o *driver* .\n",
    "##### 2º *Demora* um pouco para testar."
   ]
  },
  {
   "cell_type": "markdown",
   "metadata": {},
   "source": [
    "##### O melhor sinal para o iniciante é quando o driver instancio a navegação.\n",
    "\n",
    "### Vamos fazer o primeiro testes!\n",
    "\n",
    "##### Vamos supor que gostariamos de de chamar a pagina raiz da simulação e perguntar se existe determinado conteudo. Por exemplo, vamos conforme imagem verificar se existe o texto `Quando você nasceu` existe na pagina.\n",
    "<img src='img/1.png' style=\"width:500px\">\n"
   ]
  },
  {
   "cell_type": "code",
   "execution_count": 96,
   "metadata": {},
   "outputs": [
    {
     "name": "stderr",
     "output_type": "stream",
     "text": [
      "/tmp/ipykernel_25518/2296848751.py:1: DeprecationWarning: find_element_by_class_name is deprecated. Please use find_element(by=By.CLASS_NAME, value=name) instead\n",
      "  text = dr.find_element_by_class_name('content').text\n"
     ]
    }
   ],
   "source": [
    "text = dr.find_element_by_class_name('content').text\n",
    "frase = text.strip()\n",
    "assert '👶\\nQuando você nasceu?' == frase, f'O Texto está diferente do esta na pagina! {frase}'\n"
   ]
  },
  {
   "cell_type": "markdown",
   "metadata": {},
   "source": [
    "##### Vamos supor que a galera esteja ficando de saco cheio de fazer sempre a simulação, *passo á passo* ....\n",
    "##### Não vamos fazer todos os passos mas dar uma idéia de como poderiamos fazer.\n",
    "##### Nesse proximo passo vamos avançar até o passo 3 e vamos comparar o que tem escrito."
   ]
  },
  {
   "cell_type": "code",
   "execution_count": 105,
   "metadata": {},
   "outputs": [
    {
     "name": "stderr",
     "output_type": "stream",
     "text": [
      "/tmp/ipykernel_25518/1585183190.py:1: DeprecationWarning: find_element_by_name is deprecated. Please use find_element(by=By.NAME, value=name) instead\n",
      "  data = dr.find_element_by_name('birth_date')\n",
      "/tmp/ipykernel_25518/1585183190.py:2: DeprecationWarning: find_element_by_xpath is deprecated. Please use find_element(by=By.XPATH, value=xpath) instead\n",
      "  btn = dr.find_element_by_xpath(\"//button[contains(text(), 'Continuar')]\")\n"
     ]
    }
   ],
   "source": [
    "# Simulacao?s=1\n",
    "data = dr.find_element_by_name('birth_date')\n",
    "btn = dr.find_element_by_xpath(\"//button[contains(text(), 'Continuar')]\")\n",
    "\n",
    "data.send_keys('24/12/1987')\n",
    "btn.click()"
   ]
  },
  {
   "cell_type": "code",
   "execution_count": 106,
   "metadata": {},
   "outputs": [
    {
     "name": "stderr",
     "output_type": "stream",
     "text": [
      "/tmp/ipykernel_25518/377105254.py:2: DeprecationWarning: find_element_by_class_name is deprecated. Please use find_element(by=By.CLASS_NAME, value=name) instead\n",
      "  btn = dr.find_element_by_class_name('text-content')\n"
     ]
    }
   ],
   "source": [
    "# Simulacao?s=2\n",
    "btn = dr.find_element_by_class_name('text-content')\n",
    "btn.click()\n"
   ]
  },
  {
   "cell_type": "code",
   "execution_count": 112,
   "metadata": {},
   "outputs": [
    {
     "name": "stderr",
     "output_type": "stream",
     "text": [
      "/tmp/ipykernel_25518/2429336423.py:1: DeprecationWarning: find_element_by_class_name is deprecated. Please use find_element(by=By.CLASS_NAME, value=name) instead\n",
      "  text = dr.find_element_by_class_name('content').text\n"
     ]
    }
   ],
   "source": [
    "text = dr.find_element_by_class_name('content').text\n",
    "frase = text.strip()\n",
    "assert 'Legal! Agora, quanto você tem de altura e qual é o seu peso.' in frase, f'O Texto está diferente do esta ma pagina! {frase}'\n"
   ]
  },
  {
   "cell_type": "markdown",
   "metadata": {},
   "source": [
    "#### Sobre:\n",
    "##### [referencia 1](https://www.selenium.dev/documentation)\n",
    "##### [referencia 2](https://pypi.org/project/webdriver-manager/)\n",
    "##### [referencia 3](https://www.selenium.dev/selenium/docs/api/rb/Selenium/WebDriver/Chrome/Options.html)"
   ]
  }
 ],
 "metadata": {
  "interpreter": {
   "hash": "128e908363acb280a47a15c84574337f3ac3285f817d31aefc25b0f997ee3c95"
  },
  "kernelspec": {
   "display_name": "Python 3.10.4 ('jupyter')",
   "language": "python",
   "name": "python3"
  },
  "language_info": {
   "codemirror_mode": {
    "name": "ipython",
    "version": 3
   },
   "file_extension": ".py",
   "mimetype": "text/x-python",
   "name": "python",
   "nbconvert_exporter": "python",
   "pygments_lexer": "ipython3",
   "version": "3.10.4"
  },
  "orig_nbformat": 4
 },
 "nbformat": 4,
 "nbformat_minor": 2
}
